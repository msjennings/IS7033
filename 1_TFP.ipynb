{
 "cells": [
  {
   "cell_type": "markdown",
   "metadata": {},
   "source": [
    "# Probability, Random Variables, & Probability Density\n",
    "\n",
    "- Probability theory is a mathematical framework for quantifying our uncertainty about the world. It allows us (and our software) to reason effectively in situations where being certain is impossible\n",
    "- Random Variable is a variable which can take random values within the sample space\n",
    "    - Example of Smaple Space - Flipping a coint, the sample space can be expressed as — {H, T} where H stands for a Head, and T stands for a Tail.\n",
    "- A probability distribution is a way (mathmatical function) to determine what is the chance that a random variable takes a certain value in the sample space"
   ]
  },
  {
   "cell_type": "markdown",
   "metadata": {},
   "source": [
    "# TensorFlow Probability\n",
    "\n",
    "TensorFlow Probability is a library for probabilistic reasoning and statistical analysis in TensorFlow.\n",
    "\n",
    "The TensorFlow team built TFP for data scientists, statisticians, and ML researchers and practitioners who want to encode domain knowledge to understand data and make predictions. TFP is a Python library built on TensorFlow that makes it easy to combine probabilistic models and deep learning on modern hardware. TFP allows you to:\n",
    "\n",
    "- Explore your data interactively\n",
    "- Evaluate different models rapidly\n",
    "- Leverage modern, vectorized hardware accelerators automatically\n",
    "- Launch easily and with confidence. TFP is professionally built and tested, Google-Cloud ready, and supported by a vibrant open source community."
   ]
  },
  {
   "cell_type": "markdown",
   "metadata": {},
   "source": [
    "TFP should be used if:\n",
    "- You want to build a generative model of data, reasoning about its hidden processes.\n",
    "- You need to quantify the uncertainty in your predictions, as opposed to predicting a single value.\n",
    "- Your training set has a large number of features relative to the number of data points.\n",
    "- Your data is structured — for example, with groups, space, graphs, or language semantics — and you’d like to capture this structure with prior information."
   ]
  },
  {
   "cell_type": "markdown",
   "metadata": {},
   "source": [
    "# Components (https://www.tensorflow.org/probability/overview)\n",
    "\n",
    "### Layer0 - TensorFlow\n",
    "- Numerical operations—in particular, the LinearOperator class—enables matrix-free implementations that can exploit a particular structure (diagonal, low-rank, etc.) for efficient computation. It is built and maintained by the TensorFlow Probability team and is part of tf.linalg in core TensorFlow.\n",
    "### Layer1 - Statistical Building Blocks\n",
    "- Distributions (tfp.distributions, tf.distributions): A large collection of probability distributions and related statistics with batch and broadcasting semantics.\n",
    "- Bijectors (tfp.bijectors): Reversible and composable transformations of random variables. Bijectors provide a rich class of transformed distributions, from classical examples like the log-normal distribution to sophisticated deep learning models such as masked autoregressive flows.\n",
    "### Layer2 - Layer 2: Model Building\n",
    "- Edward2 (tfp.edward2): A probabilistic programming language for specifying flexible probabilistic models as programs.\n",
    "- Probabilistic layers (tfp.layers): Neural network layers with uncertainty over the functions they represent, extending TensorFlow layers.\n",
    "- Trainable distributions (tfp.trainable_distributions): Probability distributions parameterized by a single tensor, making it easy to build neural nets that output probability distributions.\n",
    "### Layer3 - Probabilistic Inference\n",
    "- Markov chain Monte Carlo (tfp.mcmc): Algorithms for approximating integrals via sampling. Includes Hamiltonian Monte Carlo, random-walk Metropolis-Hastings, and the ability to build custom transition kernels.\n",
    "- Variational Inference (tfp.vi): Algorithms for approximating integrals through optimization.\n",
    "- Optimizers (tfp.optimizer): Stochastic optimization methods, extending TensorFlow Optimizers. Includes Stochastic Gradient Langevin Dynamics.\n",
    "- Monte Carlo (tfp.monte_carlo): Tools for computing Monte Carlo expectations."
   ]
  },
  {
   "cell_type": "code",
   "execution_count": 1,
   "metadata": {},
   "outputs": [
    {
     "name": "stdout",
     "output_type": "stream",
     "text": [
      "\n",
      "WARNING: The TensorFlow contrib module will not be included in TensorFlow 2.0.\n",
      "For more information, please see:\n",
      "  * https://github.com/tensorflow/community/blob/master/rfcs/20180907-contrib-sunset.md\n",
      "  * https://github.com/tensorflow/addons\n",
      "If you depend on functionality not listed there, please file an issue.\n",
      "\n"
     ]
    }
   ],
   "source": [
    "import collections\n",
    "import numpy as np\n",
    "import tensorflow as tf\n",
    "import tensorflow_probability as tfp\n",
    "\n",
    "tfd = tfp.distributions\n",
    "\n",
    "try:\n",
    "    tf.compat.v1.enable_eager_execution()\n",
    "except ValueError:\n",
    "    pass\n",
    "\n",
    "import matplotlib.pyplot as plt"
   ]
  },
  {
   "cell_type": "code",
   "execution_count": 2,
   "metadata": {},
   "outputs": [],
   "source": [
    "def print_subclasses_from_module(module, base_class, maxwidth=80):\n",
    "    import functools, inspect, sys\n",
    "    subclasses = [name for name, obj in inspect.getmembers(module)\n",
    "                if inspect.isclass(obj) and issubclass(obj, base_class)]\n",
    "    def red(acc, x):\n",
    "        if not acc or len(acc[-1]) + len(x) + 2 > maxwidth:\n",
    "            acc.append(x)\n",
    "        else:\n",
    "            acc[-1] += \", \" + x\n",
    "        return acc\n",
    "    print('\\n'.join(functools.reduce(red, subclasses, [])))"
   ]
  },
  {
   "cell_type": "code",
   "execution_count": 3,
   "metadata": {},
   "outputs": [
    {
     "name": "stdout",
     "output_type": "stream",
     "text": [
      "Autoregressive, BatchReshape, Bernoulli, Beta, Binomial, Categorical, Cauchy\n",
      "Chi, Chi2, Chi2WithAbsDf, ConditionalDistribution\n",
      "ConditionalTransformedDistribution, Deterministic, Dirichlet\n",
      "DirichletMultinomial, Distribution, ExpRelaxedOneHotCategorical, Exponential\n",
      "Gamma, GammaGamma, GaussianProcess, GaussianProcessRegressionModel, Geometric\n",
      "Gumbel, HalfCauchy, HalfNormal, HiddenMarkovModel, Horseshoe, Independent\n",
      "InverseGamma, InverseGammaWithSoftplusConcentrationRate, InverseGaussian\n",
      "Kumaraswamy, LKJ, Laplace, LinearGaussianStateSpaceModel, LogNormal, Logistic\n",
      "Mixture, MixtureSameFamily, Multinomial, MultivariateNormalDiag\n",
      "MultivariateNormalDiagPlusLowRank, MultivariateNormalDiagWithSoftplusScale\n",
      "MultivariateNormalFullCovariance, MultivariateNormalLinearOperator\n",
      "MultivariateNormalTriL, MultivariateStudentTLinearOperator, NegativeBinomial\n",
      "Normal, OneHotCategorical, Pareto, Poisson, PoissonLogNormalQuadratureCompound\n",
      "QuantizedDistribution, RelaxedBernoulli, RelaxedOneHotCategorical, SinhArcsinh\n",
      "StudentT, StudentTProcess, TransformedDistribution, TruncatedNormal, Uniform\n",
      "VectorDeterministic, VectorDiffeomixture, VectorExponentialDiag\n",
      "VectorLaplaceDiag, VectorSinhArcsinhDiag, VonMises, VonMisesFisher, Wishart\n"
     ]
    }
   ],
   "source": [
    "print_subclasses_from_module(tfp.distributions, tfp.distributions.Distribution)"
   ]
  },
  {
   "cell_type": "code",
   "execution_count": 4,
   "metadata": {},
   "outputs": [
    {
     "data": {
      "text/plain": [
       "<tfp.distributions.Normal 'Normal/' batch_shape=() event_shape=() dtype=float32>"
      ]
     },
     "execution_count": 4,
     "metadata": {},
     "output_type": "execute_result"
    }
   ],
   "source": [
    "n = tfd.Normal(loc=0., scale=1.)\n",
    "n"
   ]
  },
  {
   "cell_type": "code",
   "execution_count": 5,
   "metadata": {},
   "outputs": [
    {
     "data": {
      "text/plain": [
       "<tf.Tensor: id=22, shape=(), dtype=float32, numpy=-2.4924138>"
      ]
     },
     "execution_count": 5,
     "metadata": {},
     "output_type": "execute_result"
    }
   ],
   "source": [
    "n.sample()"
   ]
  },
  {
   "cell_type": "code",
   "execution_count": 6,
   "metadata": {},
   "outputs": [
    {
     "data": {
      "text/plain": [
       "TensorShape([Dimension(1000)])"
      ]
     },
     "execution_count": 6,
     "metadata": {},
     "output_type": "execute_result"
    }
   ],
   "source": [
    "samples = n.sample(1000)\n",
    "samples.shape"
   ]
  },
  {
   "cell_type": "code",
   "execution_count": 7,
   "metadata": {},
   "outputs": [
    {
     "data": {
      "image/png": "[encoded data removed]",
      "text/plain": [
       "<Figure size 432x288 with 1 Axes>"
      ]
     },
     "metadata": {
      "needs_background": "light"
     },
     "output_type": "display_data"
    }
   ],
   "source": [
    "import seaborn as sns\n",
    "sns.distplot(samples)\n",
    "plt.title(\"Samples from a standard Normal\")\n",
    "plt.show()"
   ]
  },
  {
   "cell_type": "code",
   "execution_count": 8,
   "metadata": {},
   "outputs": [
    {
     "data": {
      "text/plain": [
       "<tf.Tensor: id=59, shape=(), dtype=float32, numpy=-0.9189385>"
      ]
     },
     "execution_count": 8,
     "metadata": {},
     "output_type": "execute_result"
    }
   ],
   "source": [
    "# Compute the log_prob of a point in the event space of `normal`\n",
    "n.log_prob(0.)"
   ]
  },
  {
   "cell_type": "code",
   "execution_count": 9,
   "metadata": {},
   "outputs": [
    {
     "data": {
      "text/plain": [
       "<tf.Tensor: id=70, shape=(3,), dtype=float32, numpy=array([-1.4189385, -0.9189385, -1.4189385], dtype=float32)>"
      ]
     },
     "execution_count": 9,
     "metadata": {},
     "output_type": "execute_result"
    }
   ],
   "source": [
    "# Compute the log_prob of a few points\n",
    "n.log_prob([-1., 0., 1.])"
   ]
  },
  {
   "cell_type": "markdown",
   "metadata": {},
   "source": [
    "# More sample prob available here: \n",
    "https://github.com/tensorflow/probability/blob/master/tensorflow_probability/examples/jupyter_notebooks/A_Tour_of_TensorFlow_Probability.ipynb"
   ]
  },
  {
   "cell_type": "markdown",
   "metadata": {},
   "source": [
    "# Simple Linear Regression Example"
   ]
  },
  {
   "cell_type": "code",
   "execution_count": 10,
   "metadata": {},
   "outputs": [],
   "source": [
    "import numpy as np\n",
    "import matplotlib.pyplot as plt\n",
    "import pandas as pd\n",
    "\n",
    "# Importing the datasets\n",
    " \n",
    "datasets = pd.read_csv('Salary_Data.csv')\n",
    "\n",
    "X = datasets.iloc[:, :-1].values\n",
    "Y = datasets.iloc[:, 1].values\n",
    "\n",
    "# Splitting the dataset into the Training set and Test set\n",
    "\n",
    "from sklearn.model_selection import train_test_split\n",
    "X_Train, X_Test, Y_Train, Y_Test = train_test_split(X, Y, test_size = 1/3, random_state = 0)\n",
    "\n",
    "# Fitting Simple Linear Regression to the training set\n",
    "\n",
    "from sklearn.linear_model import LinearRegression\n",
    "regressor = LinearRegression()\n",
    "regressor.fit(X_Train, Y_Train)\n",
    "\n",
    "# Predicting the Test set result ￼\n",
    "\n",
    "Y_Pred = regressor.predict(X_Test)"
   ]
  },
  {
   "cell_type": "code",
   "execution_count": 11,
   "metadata": {},
   "outputs": [
    {
     "data": {
      "text/plain": [
       "array([ 40835.10590871, 123079.39940819,  65134.55626083,  63265.36777221,\n",
       "       115602.64545369, 108125.8914992 , 116537.23969801,  64199.96201652,\n",
       "        76349.68719258, 100649.1375447 ])"
      ]
     },
     "execution_count": 11,
     "metadata": {},
     "output_type": "execute_result"
    }
   ],
   "source": [
    "Y_Pred"
   ]
  },
  {
   "cell_type": "code",
   "execution_count": 12,
   "metadata": {},
   "outputs": [],
   "source": [
    "negloglik = lambda y, p_y: -p_y.log_prob(y)"
   ]
  },
  {
   "cell_type": "code",
   "execution_count": 13,
   "metadata": {},
   "outputs": [
    {
     "name": "stdout",
     "output_type": "stream",
     "text": [
      "WARNING:tensorflow:From /home/ubuntu/.local/lib/python3.7/site-packages/tensorflow/python/ops/resource_variable_ops.py:642: colocate_with (from tensorflow.python.framework.ops) is deprecated and will be removed in a future version.\n",
      "Instructions for updating:\n",
      "Colocations handled automatically by placer.\n"
     ]
    }
   ],
   "source": [
    "import tensorflow as tf\n",
    "import tensorflow_probability as tfp\n",
    "tfd = tfp.distributions\n",
    "\n",
    "# Build model.\n",
    "model = tf.keras.Sequential([\n",
    "  tf.keras.layers.Dense(1),\n",
    "#We make it explicit that we’re modeling the labels using a normal distribution with a scale of 1 \n",
    "    #centered on location (mean) that’s dependent on the inputs - This is a special instance of tfd.Distribution\n",
    "  tfp.layers.DistributionLambda(lambda t: tfd.Normal(loc=t, scale=1)), \n",
    "])\n",
    "\n",
    "# Do inference.\n",
    "model.compile(optimizer=tf.keras.optimizers.Adam(), loss=negloglik)\n",
    "model.fit(X_Train, Y_Train, epochs=500, verbose=None)\n",
    "\n",
    "# Make predictions.\n",
    "X_Test = X_Test.astype('float32')\n",
    "yhat = model(X_Test)"
   ]
  },
  {
   "cell_type": "code",
   "execution_count": 14,
   "metadata": {},
   "outputs": [
    {
     "name": "stdout",
     "output_type": "stream",
     "text": [
      "10\n",
      "10\n"
     ]
    }
   ],
   "source": [
    "print(len(list(yhat)))\n",
    "print(len(X_Test))"
   ]
  },
  {
   "cell_type": "code",
   "execution_count": 15,
   "metadata": {},
   "outputs": [
    {
     "data": {
      "text/plain": [
       "<tf.Tensor: id=3578, shape=(10, 1), dtype=float32, numpy=\n",
       "array([[0.5303119 ],\n",
       "       [0.7081696 ],\n",
       "       [0.5828607 ],\n",
       "       [0.5788185 ],\n",
       "       [0.69200075],\n",
       "       [0.6758318 ],\n",
       "       [0.6940218 ],\n",
       "       [0.58083963],\n",
       "       [0.6071141 ],\n",
       "       [0.65966296]], dtype=float32)>"
      ]
     },
     "execution_count": 15,
     "metadata": {},
     "output_type": "execute_result"
    }
   ],
   "source": [
    "mean = yhat.mean()\n",
    "mean"
   ]
  },
  {
   "cell_type": "code",
   "execution_count": 16,
   "metadata": {},
   "outputs": [
    {
     "data": {
      "image/png": "[encoded data removed]",
      "text/plain": [
       "<Figure size 432x288 with 1 Axes>"
      ]
     },
     "metadata": {
      "needs_background": "light"
     },
     "output_type": "display_data"
    }
   ],
   "source": [
    "# Visualising the trend of the data\n",
    "\n",
    "plt.scatter(X_Train, Y_Train, color = 'red')\n",
    "plt.plot(X_Test, regressor.predict(X_Test), color = 'blue')\n",
    "plt.title('Observed vs Mean: Trend of Data')\n",
    "plt.xlabel('Years of experience')\n",
    "plt.ylabel('Salary')\n",
    "plt.show()"
   ]
  },
  {
   "cell_type": "markdown",
   "metadata": {},
   "source": [
    "# Another Example\n",
    "A fair dice is rolled if the result is an odd number then a fair coin is tossed 3 times. Otherwise, if the result is even number then a fair coin will be tossed 2 times. In both cases, # of heads is counted. What’s the variance of # heads obtained?\n",
    "(https://towardsdatascience.com/a-tell-of-tensorflow-probability-a2bf5a364391)"
   ]
  },
  {
   "cell_type": "markdown",
   "metadata": {},
   "source": [
    "# EagerTensor\n",
    "\n",
    "TensorFlow's eager execution is an imperative programming environment that evaluates operations immediately, without building graphs: operations return concrete values instead of constructing a computational graph to run later. This makes it easy to get started with TensorFlow and debug models, and it reduces boilerplate as well."
   ]
  },
  {
   "cell_type": "code",
   "execution_count": 18,
   "metadata": {},
   "outputs": [
    {
     "data": {
      "text/plain": [
       "[0.16666666666666666,\n",
       " 0.16666666666666666,\n",
       " 0.16666666666666666,\n",
       " 0.16666666666666666,\n",
       " 0.16666666666666666,\n",
       " 0.16666666666666666]"
      ]
     },
     "execution_count": 18,
     "metadata": {},
     "output_type": "execute_result"
    }
   ],
   "source": [
    "#import important libs\n",
    "import tensorflow as tf\n",
    "import tensorflow_probability as tfp\n",
    "import numpy as np\n",
    "\n",
    "# Set the mode to eager execution\n",
    "tf.enable_eager_execution()\n",
    "\n",
    "# We have a fair die, so the probability of each side is equally likely\n",
    "probs = [1/6.] * 6\n",
    "probs"
   ]
  },
  {
   "cell_type": "code",
   "execution_count": 19,
   "metadata": {},
   "outputs": [],
   "source": [
    "# This is where we are going to store the final result of each experiment\n",
    "var_arr = []"
   ]
  },
  {
   "cell_type": "code",
   "execution_count": 20,
   "metadata": {},
   "outputs": [
    {
     "name": "stdout",
     "output_type": "stream",
     "text": [
      "WARNING:tensorflow:From /home/ubuntu/.local/lib/python3.7/site-packages/tensorflow_probability/python/distributions/multinomial.py:249: multinomial (from tensorflow.python.ops.random_ops) is deprecated and will be removed in a future version.\n",
      "Instructions for updating:\n",
      "Use tf.random.categorical instead.\n"
     ]
    }
   ],
   "source": [
    "# We do the same experiment 100 times\n",
    "for k in range(0, 100):\n",
    "    # Each time we throw our fair die 1000 times and record how many times each side is shown\n",
    "    dices = tfp.distributions.Multinomial(total_count=1000, probs=probs)\n",
    "    n = dices.sample()\n",
    "    # Then convert the tf.tensor to a numpy array\n",
    "    l = n.numpy()\n",
    "    L = []\n",
    "    # For each side of the die\n",
    "    for i, nums in enumerate(l):\n",
    "        # For how many times that side has turned up\n",
    "        for _ in range(int(nums)):\n",
    "            # if it is an odd number fase of the die (1, 3, 5) then toss the fair coin 3 times else 2 times\n",
    "            mul_by = 3 if (i + 1) % 2 != 0 else 2\n",
    "            # It is a fair coin thus each side is equally probable\n",
    "            tosses = tfp.distributions.Bernoulli(probs=0.5)\n",
    "            coin_flip_data = tosses.sample(mul_by)\n",
    "            l2 = coin_flip_data.numpy()\n",
    "            # How many times head turned up (assuming HEAD = 1)\n",
    "            num_heads = np.sum(l2)\n",
    "            L += [num_heads]\n",
    "    # Calculate the variance and store it\n",
    "    var_arr.append(np.var(L))"
   ]
  },
  {
   "cell_type": "code",
   "execution_count": 21,
   "metadata": {},
   "outputs": [
    {
     "data": {
      "text/plain": [
       "0.6878604000000001"
      ]
     },
     "execution_count": 21,
     "metadata": {},
     "output_type": "execute_result"
    }
   ],
   "source": [
    "np.mean(var_arr)"
   ]
  },
  {
   "cell_type": "markdown",
   "metadata": {},
   "source": [
    "the mean of the Global Variance list is 0.6879; We have verified the mathematical prediction using robust modeling and experiment"
   ]
  },
  {
   "cell_type": "markdown",
   "metadata": {},
   "source": [
    "# References: \n",
    "    https://camdavidsonpilon.github.io/Probabilistic-Programming-and-Bayesian-Methods-for-Hackers/\n",
    "    https://github.com/tensorflow/probability/blob/master/tensorflow_probability/examples/jupyter_notebooks/A_Tour_of_TensorFlow_Probability.ipynb\n",
    "    https://medium.com/tensorflow/an-introduction-to-probabilistic-programming-now-available-in-tensorflow-probability-6dcc003ca29e\n",
    "    https://medium.com/tensorflow/introducing-tensorflow-probability-dca4c304e245"
   ]
  },
  {
   "cell_type": "code",
   "execution_count": null,
   "metadata": {},
   "outputs": [],
   "source": []
  }
 ],
 "metadata": {
  "kernelspec": {
   "display_name": "Python 3",
   "language": "python",
   "name": "python3"
  },
  "language_info": {
   "codemirror_mode": {
    "name": "ipython",
    "version": 3
   },
   "file_extension": ".py",
   "mimetype": "text/x-python",
   "name": "python",
   "nbconvert_exporter": "python",
   "pygments_lexer": "ipython3",
   "version": "3.7.2"
  }
 },
 "nbformat": 4,
 "nbformat_minor": 2
}
