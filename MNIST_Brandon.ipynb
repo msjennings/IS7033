{
 "cells": [
  {
   "cell_type": "code",
   "execution_count": 1,
   "metadata": {},
   "outputs": [],
   "source": [
    "import torch\n",
    "import torch.nn as nn\n",
    "import torch.optim as optim\n",
    "from torch.autograd import Variable\n",
    "import torch.nn.functional as F\n",
    "\n",
    "import torchvision\n",
    "from torchvision import datasets, transforms\n",
    "\n",
    "import numpy as np\n",
    "import matplotlib.pyplot as plt"
   ]
  },
  {
   "cell_type": "code",
   "execution_count": 2,
   "metadata": {},
   "outputs": [
    {
     "data": {
      "text/plain": [
       "<torch._C.Generator at 0x11038ba50>"
      ]
     },
     "execution_count": 2,
     "metadata": {},
     "output_type": "execute_result"
    }
   ],
   "source": [
    "### Hyperparameters\n",
    "n_epochs = 10\n",
    "batch_size_train = 64\n",
    "batch_size_test = 100\n",
    "\n",
    "random_seed = 1\n",
    "torch.backends.cudnn.enabled = False\n",
    "torch.manual_seed(random_seed)"
   ]
  },
  {
   "cell_type": "markdown",
   "metadata": {},
   "source": [
    "### Load the Data"
   ]
  },
  {
   "cell_type": "code",
   "execution_count": 3,
   "metadata": {},
   "outputs": [],
   "source": [
    "### Get MNIST Data\n",
    "\n",
    "#train = True pulls from training set train = False pulls from testing data\n",
    "#Compose() chains multiple transformations together\n",
    "#ToTensor() transforms PIL image or numpy array to torch tensor\n",
    "#Normalize() normalize a tensor image with mean and standard deviation (mean, std)\n",
    "\n",
    "train_loader = torch.utils.data.DataLoader(\n",
    "  torchvision.datasets.MNIST('./files', train=True, download=True,\n",
    "                             transform=torchvision.transforms.Compose([\n",
    "                               torchvision.transforms.ToTensor(),\n",
    "                               torchvision.transforms.Normalize(\n",
    "                                 (0.1307,), (0.3081,))\n",
    "                             ])),\n",
    "  batch_size=batch_size_train, shuffle=True)\n",
    "\n",
    "test_loader = torch.utils.data.DataLoader(\n",
    "  torchvision.datasets.MNIST('./files', train=False, download=True,\n",
    "                             transform=torchvision.transforms.Compose([\n",
    "                               torchvision.transforms.ToTensor(),\n",
    "                               torchvision.transforms.Normalize(\n",
    "                                 (0.1307,), (0.3081,))\n",
    "                             ])),\n",
    "  batch_size=batch_size_test, shuffle=True)"
   ]
  },
  {
   "cell_type": "markdown",
   "metadata": {},
   "source": [
    "### Visualize the Data"
   ]
  },
  {
   "cell_type": "code",
   "execution_count": 4,
   "metadata": {},
   "outputs": [],
   "source": [
    "### Example Data\n",
    "examples = enumerate(test_loader)\n",
    "batch_idx, (example_data, example_targets) = next(examples)"
   ]
  },
  {
   "cell_type": "code",
   "execution_count": 5,
   "metadata": {},
   "outputs": [
    {
     "name": "stdout",
     "output_type": "stream",
     "text": [
      "Index: 0\n",
      "Example Shape: torch.Size([100, 1, 28, 28])\n",
      "Target Shape : torch.Size([100])\n"
     ]
    }
   ],
   "source": [
    "### 1000 examples 1 color, 28 by 28\n",
    "### 1000 target lables that corresponds to an example\n",
    "print (\"Index:\", batch_idx)\n",
    "print (\"Example Shape:\", example_data.shape)\n",
    "print (\"Target Shape :\", example_targets.shape)"
   ]
  },
  {
   "cell_type": "code",
   "execution_count": 6,
   "metadata": {},
   "outputs": [
    {
     "data": {
      "text/plain": [
       "<module 'matplotlib.pyplot' from '/anaconda3/envs/FunnelAI/lib/python3.6/site-packages/matplotlib/pyplot.py'>"
      ]
     },
     "execution_count": 6,
     "metadata": {},
     "output_type": "execute_result"
    },
    {
     "data": {
      "image/png": "[encoded data removed]",
      "text/plain": [
       "<Figure size 1080x576 with 6 Axes>"
      ]
     },
     "metadata": {
      "needs_background": "light"
     },
     "output_type": "display_data"
    }
   ],
   "source": [
    "fig = plt.figure(figsize=(15, 8))\n",
    "for i in range(6):\n",
    "    plt.subplot(1,6, i+1)\n",
    "    plt.imshow(example_data[i][0], cmap='gray', interpolation='none')\n",
    "    plt.title(\"Ground Truth: {}\".format(example_targets[i]))\n",
    "plt"
   ]
  },
  {
   "cell_type": "markdown",
   "metadata": {},
   "source": [
    "### Multilayer Perceptron"
   ]
  },
  {
   "cell_type": "code",
   "execution_count": 7,
   "metadata": {},
   "outputs": [],
   "source": [
    "### x.view(-1, 28*28) -1 mean reshape tensor with appropriate rows given 28*28 columns\n",
    "class MLPNet(nn.Module):\n",
    "    def __init__(self):\n",
    "        super(MLPNet, self).__init__()\n",
    "        self.fc1 = nn.Linear(28*28, 500)\n",
    "        self.fc2 = nn.Linear(500, 256)\n",
    "        self.fc3 = nn.Linear(256, 10)\n",
    "    def forward(self, x):\n",
    "        x = x.view(-1, 28*28)\n",
    "        x = F.relu(self.fc1(x))\n",
    "        x = F.relu(self.fc2(x))\n",
    "        x = self.fc3(x)\n",
    "        return x\n",
    "    \n",
    "    def name(self):\n",
    "        return \"MLP\""
   ]
  },
  {
   "cell_type": "markdown",
   "metadata": {},
   "source": [
    "### Training"
   ]
  },
  {
   "cell_type": "code",
   "execution_count": 8,
   "metadata": {},
   "outputs": [],
   "source": [
    "model = MLPNet()\n",
    "optimizer = optim.SGD(model.parameters(), lr=0.01, momentum=0.9)\n",
    "loss_function = nn.CrossEntropyLoss()"
   ]
  },
  {
   "cell_type": "code",
   "execution_count": 9,
   "metadata": {},
   "outputs": [
    {
     "name": "stdout",
     "output_type": "stream",
     "text": [
      "**** epoch: 0, batch index: 200, train loss: 0.299103\n",
      "**** epoch: 0, batch index: 400, train loss: 0.195498\n",
      "**** epoch: 0, batch index: 600, train loss: 0.200295\n",
      "**** epoch: 0, batch index: 800, train loss: 0.142896\n",
      "**** epoch: 0, batch index: 938, train loss: 0.151294\n",
      "@@@@ epoch: 0, batch index: 100, test loss: 0.141187, acc: 0.958\n",
      "**** epoch: 1, batch index: 200, train loss: 0.131875\n",
      "**** epoch: 1, batch index: 400, train loss: 0.113481\n",
      "**** epoch: 1, batch index: 600, train loss: 0.098396\n",
      "**** epoch: 1, batch index: 800, train loss: 0.095889\n",
      "**** epoch: 1, batch index: 938, train loss: 0.118362\n",
      "@@@@ epoch: 1, batch index: 100, test loss: 0.059145, acc: 0.975\n",
      "**** epoch: 2, batch index: 200, train loss: 0.054072\n",
      "**** epoch: 2, batch index: 400, train loss: 0.065374\n",
      "**** epoch: 2, batch index: 600, train loss: 0.060321\n",
      "**** epoch: 2, batch index: 800, train loss: 0.082199\n",
      "**** epoch: 2, batch index: 938, train loss: 0.063460\n",
      "@@@@ epoch: 2, batch index: 100, test loss: 0.055848, acc: 0.978\n",
      "**** epoch: 3, batch index: 200, train loss: 0.061642\n",
      "**** epoch: 3, batch index: 400, train loss: 0.050811\n",
      "**** epoch: 3, batch index: 600, train loss: 0.051141\n",
      "**** epoch: 3, batch index: 800, train loss: 0.050360\n",
      "**** epoch: 3, batch index: 938, train loss: 0.041568\n",
      "@@@@ epoch: 3, batch index: 100, test loss: 0.057554, acc: 0.979\n",
      "**** epoch: 4, batch index: 200, train loss: 0.027425\n",
      "**** epoch: 4, batch index: 400, train loss: 0.035676\n",
      "**** epoch: 4, batch index: 600, train loss: 0.030784\n",
      "**** epoch: 4, batch index: 800, train loss: 0.036697\n",
      "**** epoch: 4, batch index: 938, train loss: 0.032020\n",
      "@@@@ epoch: 4, batch index: 100, test loss: 0.077903, acc: 0.981\n",
      "**** epoch: 5, batch index: 200, train loss: 0.016947\n",
      "**** epoch: 5, batch index: 400, train loss: 0.020231\n",
      "**** epoch: 5, batch index: 600, train loss: 0.029110\n",
      "**** epoch: 5, batch index: 800, train loss: 0.022086\n",
      "**** epoch: 5, batch index: 938, train loss: 0.020942\n",
      "@@@@ epoch: 5, batch index: 100, test loss: 0.081305, acc: 0.979\n",
      "**** epoch: 6, batch index: 200, train loss: 0.014711\n",
      "**** epoch: 6, batch index: 400, train loss: 0.014414\n",
      "**** epoch: 6, batch index: 600, train loss: 0.012604\n",
      "**** epoch: 6, batch index: 800, train loss: 0.009738\n",
      "**** epoch: 6, batch index: 938, train loss: 0.014640\n",
      "@@@@ epoch: 6, batch index: 100, test loss: 0.056776, acc: 0.982\n",
      "**** epoch: 7, batch index: 200, train loss: 0.009120\n",
      "**** epoch: 7, batch index: 400, train loss: 0.018438\n",
      "**** epoch: 7, batch index: 600, train loss: 0.008784\n",
      "**** epoch: 7, batch index: 800, train loss: 0.013199\n",
      "**** epoch: 7, batch index: 938, train loss: 0.007256\n",
      "@@@@ epoch: 7, batch index: 100, test loss: 0.061286, acc: 0.982\n",
      "**** epoch: 8, batch index: 200, train loss: 0.006286\n",
      "**** epoch: 8, batch index: 400, train loss: 0.003957\n",
      "**** epoch: 8, batch index: 600, train loss: 0.009880\n",
      "**** epoch: 8, batch index: 800, train loss: 0.005200\n",
      "**** epoch: 8, batch index: 938, train loss: 0.005906\n",
      "@@@@ epoch: 8, batch index: 100, test loss: 0.080993, acc: 0.982\n",
      "**** epoch: 9, batch index: 200, train loss: 0.003969\n",
      "**** epoch: 9, batch index: 400, train loss: 0.002905\n",
      "**** epoch: 9, batch index: 600, train loss: 0.008033\n",
      "**** epoch: 9, batch index: 800, train loss: 0.005364\n",
      "**** epoch: 9, batch index: 938, train loss: 0.003924\n",
      "@@@@ epoch: 9, batch index: 100, test loss: 0.079042, acc: 0.983\n"
     ]
    }
   ],
   "source": [
    "### Create the Training Loop\n",
    "for epoch in range(n_epochs):\n",
    "    #training\n",
    "    avg_loss = 0\n",
    "    \n",
    "    #loop through the training data\n",
    "    for batch_idx, (x, label) in enumerate(train_loader):\n",
    "        optimizer.zero_grad()                              #zero out the gradient for each minibatch\n",
    "        x, label = Variable(x), Variable(label)\n",
    "        output = model(x)                                  #get the output of the model fed forward\n",
    "        loss = loss_function(output, label)                #calculate the loss of the output\n",
    "        avg_loss = avg_loss * 0.9 + loss.item() * 0.1      #update the avg loss using momentum beta=.9\n",
    "        loss.backward()                                    #back propagate\n",
    "        optimizer.step()                                   #update the optimizer\n",
    "        \n",
    "        #print the current stats\n",
    "        if (batch_idx+1) % 200 == 0 or (batch_idx+1) == len(train_loader):\n",
    "            print ('**** epoch: {}, batch index: {}, train loss: {:.6f}'.format(epoch, batch_idx+1, avg_loss))\n",
    "\n",
    "\n",
    "    #loop through the testing data for validation\n",
    "    correct_pred = 0\n",
    "    total_count = 0\n",
    "    with torch.no_grad():\n",
    "        for batch_idx, (x, label) in enumerate(test_loader):\n",
    "            x, label = Variable(x), Variable(label) \n",
    "            output = model(x)\n",
    "            loss = loss_function(output, label)\n",
    "            _, pred_label = torch.max(output.data, 1)                  #return max of prediction array\n",
    "\n",
    "            total_count += x.data.size()[0]                            #update total count with batch size\n",
    "            correct_pred += (pred_label == label.data).sum().item()    #update correct predictions using sum of correct preds\n",
    "\n",
    "            avg_loss = avg_loss * 0.9 + loss.item() * 0.1              #update loss\n",
    "\n",
    "            if(batch_idx+1) % 1000 == 0 or (batch_idx+1) == len(test_loader):\n",
    "                print ('@@@@ epoch: {}, batch index: {}, test loss: {:.6f}, acc: {:.3f}'.format(\n",
    "                    epoch, batch_idx+1, avg_loss, correct_pred * 1.0 / total_count))\n",
    "            \n",
    "#### Save the final model\n",
    "torch.save(model.state_dict(), model.name())\n",
    "\n",
    "    "
   ]
  },
  {
   "cell_type": "code",
   "execution_count": 16,
   "metadata": {},
   "outputs": [],
   "source": [
    "examples = enumerate(test_loader)\n",
    "batch_idx, (example_data, example_targets) = next(examples)\n",
    "\n",
    "with torch.no_grad():\n",
    "    output = model(example_data)"
   ]
  },
  {
   "cell_type": "code",
   "execution_count": 17,
   "metadata": {},
   "outputs": [
    {
     "data": {
      "text/plain": [
       "<module 'matplotlib.pyplot' from '/anaconda3/envs/FunnelAI/lib/python3.6/site-packages/matplotlib/pyplot.py'>"
      ]
     },
     "execution_count": 17,
     "metadata": {},
     "output_type": "execute_result"
    },
    {
     "data": {
      "image/png": "[encoded data removed]",
      "text/plain": [
       "<Figure size 1080x576 with 6 Axes>"
      ]
     },
     "metadata": {
      "needs_background": "light"
     },
     "output_type": "display_data"
    }
   ],
   "source": [
    "fig = plt.figure(figsize=(15, 8))\n",
    "for i in range(6):\n",
    "    plt.subplot(1,6, i+1)\n",
    "    plt.imshow(example_data[i][0], cmap='gray', interpolation='none')\n",
    "    plt.title(\"Actual: {} Predicted: {}\".format(example_targets[i], output.data.max(1, keepdim=True)[1][i].item()))\n",
    "plt"
   ]
  },
  {
   "cell_type": "code",
   "execution_count": 18,
   "metadata": {},
   "outputs": [],
   "source": [
    "batch_idx, (example_data, example_targets) = next(examples)\n",
    "with torch.no_grad():\n",
    "    output = model(example_data)"
   ]
  },
  {
   "cell_type": "code",
   "execution_count": 19,
   "metadata": {},
   "outputs": [
    {
     "data": {
      "text/plain": [
       "<module 'matplotlib.pyplot' from '/anaconda3/envs/FunnelAI/lib/python3.6/site-packages/matplotlib/pyplot.py'>"
      ]
     },
     "execution_count": 19,
     "metadata": {},
     "output_type": "execute_result"
    },
    {
     "data": {
      "image/png": "[encoded data removed]",
      "text/plain": [
       "<Figure size 1080x576 with 6 Axes>"
      ]
     },
     "metadata": {
      "needs_background": "light"
     },
     "output_type": "display_data"
    }
   ],
   "source": [
    "fig = plt.figure(figsize=(15, 8))\n",
    "for i in range(6):\n",
    "    plt.subplot(1,6, i+1)\n",
    "    plt.imshow(example_data[i][0], cmap='gray', interpolation='none')\n",
    "    plt.title(\"Actual: {} Predicted: {}\".format(example_targets[i], output.data.max(1, keepdim=True)[1][i].item()))\n",
    "plt"
   ]
  },
  {
   "cell_type": "code",
   "execution_count": null,
   "metadata": {},
   "outputs": [],
   "source": []
  }
 ],
 "metadata": {
  "kernelspec": {
   "display_name": "Python 3",
   "language": "python",
   "name": "python3"
  },
  "language_info": {
   "codemirror_mode": {
    "name": "ipython",
    "version": 3
   },
   "file_extension": ".py",
   "mimetype": "text/x-python",
   "name": "python",
   "nbconvert_exporter": "python",
   "pygments_lexer": "ipython3",
   "version": "3.6.8"
  }
 },
 "nbformat": 4,
 "nbformat_minor": 2
}
